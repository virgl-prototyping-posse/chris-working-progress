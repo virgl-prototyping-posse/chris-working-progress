{
 "cells": [
  {
   "cell_type": "code",
   "execution_count": 1,
   "id": "eaec39db",
   "metadata": {},
   "outputs": [
    {
     "name": "stdout",
     "output_type": "stream",
     "text": [
      "Defaulting to user installation because normal site-packages is not writeable\n",
      "Requirement already satisfied: transformers in c:\\users\\phili\\appdata\\roaming\\python\\python311\\site-packages (4.29.2)\n",
      "Requirement already satisfied: filelock in c:\\users\\phili\\appdata\\roaming\\python\\python311\\site-packages (from transformers) (3.11.0)\n",
      "Requirement already satisfied: huggingface-hub<1.0,>=0.14.1 in c:\\users\\phili\\appdata\\roaming\\python\\python311\\site-packages (from transformers) (0.14.1)\n",
      "Requirement already satisfied: numpy>=1.17 in c:\\users\\phili\\appdata\\roaming\\python\\python311\\site-packages (from transformers) (1.23.5)\n",
      "Requirement already satisfied: packaging>=20.0 in c:\\users\\phili\\appdata\\roaming\\python\\python311\\site-packages (from transformers) (23.1)\n",
      "Requirement already satisfied: pyyaml>=5.1 in c:\\users\\phili\\appdata\\roaming\\python\\python311\\site-packages (from transformers) (6.0)\n",
      "Requirement already satisfied: regex!=2019.12.17 in c:\\users\\phili\\appdata\\roaming\\python\\python311\\site-packages (from transformers) (2023.5.5)\n",
      "Requirement already satisfied: requests in c:\\users\\phili\\appdata\\roaming\\python\\python311\\site-packages (from transformers) (2.30.0)\n",
      "Requirement already satisfied: tokenizers!=0.11.3,<0.14,>=0.11.1 in c:\\users\\phili\\appdata\\roaming\\python\\python311\\site-packages (from transformers) (0.13.3)\n",
      "Requirement already satisfied: tqdm>=4.27 in c:\\users\\phili\\appdata\\roaming\\python\\python311\\site-packages (from transformers) (4.65.0)\n",
      "Requirement already satisfied: fsspec in c:\\users\\phili\\appdata\\roaming\\python\\python311\\site-packages (from huggingface-hub<1.0,>=0.14.1->transformers) (2023.5.0)\n",
      "Requirement already satisfied: typing-extensions>=3.7.4.3 in c:\\users\\phili\\appdata\\roaming\\python\\python311\\site-packages (from huggingface-hub<1.0,>=0.14.1->transformers) (4.5.0)\n",
      "Requirement already satisfied: colorama in c:\\users\\phili\\appdata\\roaming\\python\\python311\\site-packages (from tqdm>=4.27->transformers) (0.4.6)\n",
      "Requirement already satisfied: charset-normalizer<4,>=2 in c:\\users\\phili\\appdata\\roaming\\python\\python311\\site-packages (from requests->transformers) (3.1.0)\n",
      "Requirement already satisfied: idna<4,>=2.5 in c:\\users\\phili\\appdata\\roaming\\python\\python311\\site-packages (from requests->transformers) (3.4)\n",
      "Requirement already satisfied: urllib3<3,>=1.21.1 in c:\\users\\phili\\appdata\\roaming\\python\\python311\\site-packages (from requests->transformers) (1.26.15)\n",
      "Requirement already satisfied: certifi>=2017.4.17 in c:\\users\\phili\\appdata\\roaming\\python\\python311\\site-packages (from requests->transformers) (2023.5.7)\n"
     ]
    }
   ],
   "source": [
    "!pip install transformers"
   ]
  },
  {
   "cell_type": "code",
   "execution_count": 2,
   "id": "f5b40afc",
   "metadata": {},
   "outputs": [],
   "source": [
    "import pandas as pd"
   ]
  },
  {
   "cell_type": "code",
   "execution_count": 3,
   "id": "4d2ff31f",
   "metadata": {},
   "outputs": [],
   "source": [
    "from transformers import pipeline "
   ]
  },
  {
   "cell_type": "code",
   "execution_count": 20,
   "id": "9eb99bb5",
   "metadata": {},
   "outputs": [],
   "source": [
    "applicant_profile_text = \"\"\"\n",
    "Name: John Smith\n",
    "Title: Software Engineer\n",
    "Contact Information:\n",
    "- Email: johnsmith@email.com\n",
    "- Phone: (123) 456-7890\n",
    "\n",
    "Summary:\n",
    "A highly skilled software engineer with 5+ years of experience in full-stack web development. Proficient in multiple programming languages and frameworks. Strong problem-solving and communication skills. Passionate about creating robust and scalable software solutions.\n",
    "\n",
    "Skills:\n",
    "- Programming Languages: Python, Java, C++\n",
    "- Web Technologies: HTML, CSS, JavaScript, React, Node.js\n",
    "- Databases: MySQL, MongoDB\n",
    "- Version Control: Git\n",
    "- Agile Development\n",
    "- Test-Driven Development (TDD)\n",
    "- Problem Solving\n",
    "- Communication Skills\n",
    "\n",
    "Experience:\n",
    "Company: XYZ Tech\n",
    "Position: Software Engineer\n",
    "Duration: 2018 - Present\n",
    "Responsibilities:\n",
    "- Developed and maintained web applications using Python, Django, HTML, CSS, and JavaScript.\n",
    "- Collaborated with cross-functional teams to design and implement new features.\n",
    "- Implemented test-driven development practices, resulting in a 30% decrease in software bugs.\n",
    "- Optimized application performance and scalability through code refactoring and database tuning.\n",
    "- Conducted code reviews to ensure adherence to coding standards and best practices.\n",
    "\n",
    "Company: ABC Solutions\n",
    "Position: Junior Software Engineer\n",
    "Duration: 2016 - 2018\n",
    "Responsibilities:\n",
    "- Assisted senior engineers in developing and maintaining enterprise-level software solutions.\n",
    "- Participated in requirement analysis and system design discussions.\n",
    "- Contributed to the development of front-end interfaces using React and backend services using Node.js.\n",
    "- Collaborated with QA team to conduct thorough testing and bug fixing.\n",
    "\n",
    "Education:\n",
    "Bachelor of Science in Computer Science\n",
    "University of XYZ, Year of Graduation: 2016\n",
    "\n",
    "Certifications:\n",
    "- Certified Scrum Master (CSM)\n",
    "- Oracle Certified Java Programmer (OCJP)\n",
    "\n",
    "Projects:\n",
    "1. E-commerce Website:\n",
    "- Developed a fully functional e-commerce website using Django, HTML, CSS, and JavaScript.\n",
    "- Implemented secure payment gateway integration and order management system.\n",
    "- Optimized website performance and improved user experience through front-end optimization techniques.\n",
    "\n",
    "2. Task Management Application:\n",
    "- Led a team of 4 developers in building a task management application using React and Node.js.\n",
    "- Implemented real-time updates and collaboration features using web sockets.\n",
    "- Integrated with external APIs for task tracking and reporting.\n",
    "\n",
    "References:\n",
    "Available upon request\n",
    "\"\"\"\n",
    "\n"
   ]
  },
  {
   "cell_type": "code",
   "execution_count": 21,
   "id": "62c41ed4",
   "metadata": {},
   "outputs": [],
   "source": [
    "job_description_text = \"\"\"\n",
    "Job Title: Software Engineer\n",
    "\n",
    "Company: ABC Tech Solutions\n",
    "\n",
    "Location: San Francisco, CA\n",
    "\n",
    "Job Description:\n",
    "ABC Tech Solutions is seeking a talented software engineer to join our development team. As a software engineer, you will be responsible for designing, developing, and maintaining high-quality software solutions for our clients. You will work closely with cross-functional teams to understand requirements, architect solutions, and deliver robust and scalable applications.\n",
    "\n",
    "Responsibilities:\n",
    "- Design, develop, and test software applications using a variety of programming languages and frameworks.\n",
    "- Collaborate with product managers, designers, and other stakeholders to gather requirements and translate them into technical specifications.\n",
    "- Write clean, efficient, and maintainable code following best practices and coding standards.\n",
    "- Conduct code reviews to ensure code quality, readability, and adherence to software development guidelines.\n",
    "- Troubleshoot and debug software issues, identify root causes, and implement effective solutions.\n",
    "- Participate in agile development methodologies, including sprint planning, stand-up meetings, and retrospectives.\n",
    "- Stay up-to-date with industry trends, technologies, and best practices to continuously improve software development processes.\n",
    "\n",
    "Requirements:\n",
    "- Bachelor's degree in Computer Science, Software Engineering, or related field (or equivalent work experience).\n",
    "- 3+ years of professional experience in software development.\n",
    "- Strong proficiency in one or more programming languages such as Java, Python, C++, or JavaScript.\n",
    "- Experience with web development technologies including HTML, CSS, and JavaScript frameworks (e.g., React, Angular).\n",
    "- Familiarity with relational databases and SQL queries.\n",
    "- Knowledge of software development methodologies, version control systems (e.g., Git), and issue tracking tools (e.g., JIRA).\n",
    "- Excellent problem-solving skills and ability to work independently as well as in a team environment.\n",
    "- Strong communication skills and ability to effectively collaborate with cross-functional teams.\n",
    "\n",
    "Preferred Qualifications:\n",
    "- Master's degree in Computer Science, Software Engineering, or related field.\n",
    "- Experience with cloud platforms such as AWS, Azure, or GCP.\n",
    "- Knowledge of mobile app development (iOS or Android).\n",
    "- Familiarity with agile development practices, continuous integration, and deployment pipelines.\n",
    "- Contributions to open-source projects or personal programming projects.\n",
    "\n",
    "To apply, please submit your resume, cover letter, and portfolio showcasing your previous projects to careers@abctechsolutions.com. Only shortlisted candidates will be contacted for interviews.\n",
    "\n",
    "About ABC Tech Solutions:\n",
    "ABC Tech Solutions is a leading technology company specializing in software development and IT solutions. We provide cutting-edge software solutions to a wide range of clients in various industries. Join our dynamic team and work on exciting projects that push the boundaries of technology innovation.\n",
    "\"\"\"\n",
    "\n"
   ]
  },
  {
   "cell_type": "code",
   "execution_count": 8,
   "id": "f991c06d",
   "metadata": {},
   "outputs": [
    {
     "name": "stderr",
     "output_type": "stream",
     "text": [
      "No model was supplied, defaulted to dbmdz/bert-large-cased-finetuned-conll03-english and revision f2482bf (https://huggingface.co/dbmdz/bert-large-cased-finetuned-conll03-english).\n",
      "Using a pipeline without specifying a model name and revision in production is not recommended.\n"
     ]
    },
    {
     "data": {
      "application/vnd.jupyter.widget-view+json": {
       "model_id": "8ad37f0b639d4a3885d00ff9e9db9acc",
       "version_major": 2,
       "version_minor": 0
      },
      "text/plain": [
       "Downloading pytorch_model.bin:   0%|          | 0.00/1.33G [00:00<?, ?B/s]"
      ]
     },
     "metadata": {},
     "output_type": "display_data"
    },
    {
     "name": "stderr",
     "output_type": "stream",
     "text": [
      "C:\\Users\\phili\\AppData\\Roaming\\Python\\Python311\\site-packages\\huggingface_hub\\file_download.py:133: UserWarning: `huggingface_hub` cache-system uses symlinks by default to efficiently store duplicated files but your machine does not support them in C:\\Users\\phili\\.cache\\huggingface\\hub. Caching files will still work but in a degraded version that might require more space on your disk. This warning can be disabled by setting the `HF_HUB_DISABLE_SYMLINKS_WARNING` environment variable. For more details, see https://huggingface.co/docs/huggingface_hub/how-to-cache#limitations.\n",
      "To support symlinks on Windows, you either need to activate Developer Mode or to run Python as an administrator. In order to see activate developer mode, see this article: https://docs.microsoft.com/en-us/windows/apps/get-started/enable-your-device-for-development\n",
      "  warnings.warn(message)\n"
     ]
    },
    {
     "data": {
      "application/vnd.jupyter.widget-view+json": {
       "model_id": "6e18ffb8bef44bf6a3b5b839d9055339",
       "version_major": 2,
       "version_minor": 0
      },
      "text/plain": [
       "Downloading (…)okenizer_config.json:   0%|          | 0.00/60.0 [00:00<?, ?B/s]"
      ]
     },
     "metadata": {},
     "output_type": "display_data"
    },
    {
     "data": {
      "application/vnd.jupyter.widget-view+json": {
       "model_id": "6a5a557b7c0642279d8cc645f8031f25",
       "version_major": 2,
       "version_minor": 0
      },
      "text/plain": [
       "Downloading (…)solve/main/vocab.txt:   0%|          | 0.00/213k [00:00<?, ?B/s]"
      ]
     },
     "metadata": {},
     "output_type": "display_data"
    },
    {
     "name": "stderr",
     "output_type": "stream",
     "text": [
      "C:\\Users\\phili\\AppData\\Roaming\\Python\\Python311\\site-packages\\transformers\\pipelines\\token_classification.py:169: UserWarning: `grouped_entities` is deprecated and will be removed in version v5.0.0, defaulted to `aggregation_strategy=\"AggregationStrategy.SIMPLE\"` instead.\n",
      "  warnings.warn(\n"
     ]
    }
   ],
   "source": [
    "nlp = pipeline('ner', grouped_entities=True)"
   ]
  },
  {
   "cell_type": "code",
   "execution_count": 22,
   "id": "03b7d97a",
   "metadata": {},
   "outputs": [],
   "source": [
    "job_description = pd.DataFrame({'text': [job_description_text]})"
   ]
  },
  {
   "cell_type": "code",
   "execution_count": 23,
   "id": "0e61fff9",
   "metadata": {},
   "outputs": [],
   "source": [
    "applicant_profile = pd.DataFrame({'text': [applicant_profile_text]})"
   ]
  },
  {
   "cell_type": "code",
   "execution_count": 28,
   "id": "f32a2cff",
   "metadata": {},
   "outputs": [],
   "source": [
    "\n",
    "def extract_keywords(text):\n",
    "    keywords = []\n",
    "    result = nlp(text)\n",
    "    for entity in result:\n",
    "        if entity['entity_group'] == 'TECH_STACK':\n",
    "            keywords.append(entity['word'])\n",
    "        elif entity['entity_group']== 'TRANSFERABLE_SKILLS':\n",
    "            keywords.append(entity['word'])\n",
    "        # elif entity['entity_group']==\"CULTURE\":\n",
    "            # keywords.append(entity['word'])\n",
    "    return keywords"
   ]
  },
  {
   "cell_type": "code",
   "execution_count": 24,
   "id": "5bc94575",
   "metadata": {},
   "outputs": [],
   "source": [
    "job_description['keywords']=job_description['text'].apply(extract_keywords)"
   ]
  },
  {
   "cell_type": "code",
   "execution_count": 25,
   "id": "7b307a60",
   "metadata": {},
   "outputs": [],
   "source": [
    "applicant_profile['keywords']=applicant_profile['text'].apply(extract_keywords)"
   ]
  },
  {
   "cell_type": "code",
   "execution_count": 44,
   "id": "c9367086",
   "metadata": {},
   "outputs": [],
   "source": [
    "def calculate_scores(job_keywords, profile_keywords):\n",
    "    tech_stack_matches = sum(keyword in profile_keywords for keyword in job_keywords if keyword in profile_keywords)\n",
    "    transferable_skills_matches = sum(keyword in profile_keywords for keyword in job_keywords if keyword in profile_keywords)\n",
    "    total_matches = tech_stack_matches + transferable_skills_matches\n",
    "    return total_matches"
   ]
  },
  {
   "cell_type": "code",
   "execution_count": 45,
   "id": "3a686594",
   "metadata": {},
   "outputs": [],
   "source": [
    "job_description['score'] = job_description['keywords'].apply(lambda x: calculate_scores(x, applicant_profile['keywords']))"
   ]
  },
  {
   "cell_type": "code",
   "execution_count": 46,
   "id": "c682a708",
   "metadata": {},
   "outputs": [
    {
     "name": "stdout",
     "output_type": "stream",
     "text": [
      "                                                text keywords  score\n",
      "0  \\nJob Title: Software Engineer\\n\\nCompany: ABC...       []      0\n"
     ]
    }
   ],
   "source": [
    "print(job_description)"
   ]
  },
  {
   "cell_type": "code",
   "execution_count": 47,
   "id": "e7dbb44d",
   "metadata": {},
   "outputs": [
    {
     "name": "stdout",
     "output_type": "stream",
     "text": [
      "0    0\n",
      "Name: score, dtype: int64\n"
     ]
    }
   ],
   "source": [
    "print(job_description['score'])"
   ]
  },
  {
   "cell_type": "code",
   "execution_count": 48,
   "id": "7eae6d6d",
   "metadata": {},
   "outputs": [
    {
     "data": {
      "text/html": [
       "<div>\n",
       "<style scoped>\n",
       "    .dataframe tbody tr th:only-of-type {\n",
       "        vertical-align: middle;\n",
       "    }\n",
       "\n",
       "    .dataframe tbody tr th {\n",
       "        vertical-align: top;\n",
       "    }\n",
       "\n",
       "    .dataframe thead th {\n",
       "        text-align: right;\n",
       "    }\n",
       "</style>\n",
       "<table border=\"1\" class=\"dataframe\">\n",
       "  <thead>\n",
       "    <tr style=\"text-align: right;\">\n",
       "      <th></th>\n",
       "      <th>text</th>\n",
       "      <th>keywords</th>\n",
       "      <th>score</th>\n",
       "    </tr>\n",
       "  </thead>\n",
       "  <tbody>\n",
       "    <tr>\n",
       "      <th>0</th>\n",
       "      <td>\\nJob Title: Software Engineer\\n\\nCompany: ABC...</td>\n",
       "      <td>[]</td>\n",
       "      <td>0</td>\n",
       "    </tr>\n",
       "  </tbody>\n",
       "</table>\n",
       "</div>"
      ],
      "text/plain": [
       "                                                text keywords  score\n",
       "0  \\nJob Title: Software Engineer\\n\\nCompany: ABC...       []      0"
      ]
     },
     "metadata": {},
     "output_type": "display_data"
    }
   ],
   "source": [
    "display(job_description)"
   ]
  },
  {
   "cell_type": "code",
   "execution_count": null,
   "id": "24d4ee24",
   "metadata": {},
   "outputs": [],
   "source": []
  }
 ],
 "metadata": {
  "kernelspec": {
   "display_name": "Python 3 (ipykernel)",
   "language": "python",
   "name": "python3"
  },
  "language_info": {
   "codemirror_mode": {
    "name": "ipython",
    "version": 3
   },
   "file_extension": ".py",
   "mimetype": "text/x-python",
   "name": "python",
   "nbconvert_exporter": "python",
   "pygments_lexer": "ipython3",
   "version": "3.11.3"
  }
 },
 "nbformat": 4,
 "nbformat_minor": 5
}
