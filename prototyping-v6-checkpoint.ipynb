{
 "cells": [
  {
   "cell_type": "code",
   "execution_count": 1,
   "id": "ad628894",
   "metadata": {},
   "outputs": [
    {
     "name": "stdout",
     "output_type": "stream",
     "text": [
      "Defaulting to user installation because normal site-packages is not writeable\n",
      "Collecting sentence-transformers\n",
      "  Downloading sentence-transformers-2.2.2.tar.gz (85 kB)\n",
      "                                              0.0/86.0 kB ? eta -:--:--\n",
      "     ---------------------------------------- 86.0/86.0 kB 2.4 MB/s eta 0:00:00\n",
      "  Preparing metadata (setup.py): started\n",
      "  Preparing metadata (setup.py): finished with status 'done'\n",
      "Requirement already satisfied: transformers<5.0.0,>=4.6.0 in c:\\users\\phili\\appdata\\roaming\\python\\python311\\site-packages (from sentence-transformers) (4.29.2)\n",
      "Requirement already satisfied: tqdm in c:\\users\\phili\\appdata\\roaming\\python\\python311\\site-packages (from sentence-transformers) (4.65.0)\n",
      "Requirement already satisfied: torch>=1.6.0 in c:\\users\\phili\\appdata\\roaming\\python\\python311\\site-packages (from sentence-transformers) (2.0.1)\n",
      "Collecting torchvision (from sentence-transformers)\n",
      "  Downloading torchvision-0.15.2-cp311-cp311-win_amd64.whl (1.2 MB)\n",
      "                                              0.0/1.2 MB ? eta -:--:--\n",
      "     --------------                           0.4/1.2 MB 8.9 MB/s eta 0:00:01\n",
      "     ---------------------------------------- 1.2/1.2 MB 15.2 MB/s eta 0:00:00\n",
      "Requirement already satisfied: numpy in c:\\users\\phili\\appdata\\roaming\\python\\python311\\site-packages (from sentence-transformers) (1.23.5)\n",
      "Collecting scikit-learn (from sentence-transformers)\n",
      "  Downloading scikit_learn-1.2.2-cp311-cp311-win_amd64.whl (8.3 MB)\n",
      "                                              0.0/8.3 MB ? eta -:--:--\n",
      "     ----------                               2.2/8.3 MB 46.4 MB/s eta 0:00:01\n",
      "     ---------------------                    4.4/8.3 MB 55.3 MB/s eta 0:00:01\n",
      "     -------------------------------          6.5/8.3 MB 51.7 MB/s eta 0:00:01\n",
      "     ---------------------------------------  8.3/8.3 MB 47.9 MB/s eta 0:00:01\n",
      "     ---------------------------------------- 8.3/8.3 MB 40.4 MB/s eta 0:00:00\n",
      "Requirement already satisfied: scipy in c:\\users\\phili\\appdata\\roaming\\python\\python311\\site-packages (from sentence-transformers) (1.10.1)\n",
      "Collecting nltk (from sentence-transformers)\n",
      "  Downloading nltk-3.8.1-py3-none-any.whl (1.5 MB)\n",
      "                                              0.0/1.5 MB ? eta -:--:--\n",
      "     ---------------------------------------- 1.5/1.5 MB 46.9 MB/s eta 0:00:00\n",
      "Collecting sentencepiece (from sentence-transformers)\n",
      "  Downloading sentencepiece-0.1.99-cp311-cp311-win_amd64.whl (977 kB)\n",
      "                                              0.0/977.5 kB ? eta -:--:--\n",
      "     ------------------------------------- 977.5/977.5 kB 60.5 MB/s eta 0:00:00\n",
      "Requirement already satisfied: huggingface-hub>=0.4.0 in c:\\users\\phili\\appdata\\roaming\\python\\python311\\site-packages (from sentence-transformers) (0.14.1)\n",
      "Requirement already satisfied: filelock in c:\\users\\phili\\appdata\\roaming\\python\\python311\\site-packages (from huggingface-hub>=0.4.0->sentence-transformers) (3.11.0)\n",
      "Requirement already satisfied: fsspec in c:\\users\\phili\\appdata\\roaming\\python\\python311\\site-packages (from huggingface-hub>=0.4.0->sentence-transformers) (2023.5.0)\n",
      "Requirement already satisfied: requests in c:\\users\\phili\\appdata\\roaming\\python\\python311\\site-packages (from huggingface-hub>=0.4.0->sentence-transformers) (2.30.0)\n",
      "Requirement already satisfied: pyyaml>=5.1 in c:\\users\\phili\\appdata\\roaming\\python\\python311\\site-packages (from huggingface-hub>=0.4.0->sentence-transformers) (6.0)\n",
      "Requirement already satisfied: typing-extensions>=3.7.4.3 in c:\\users\\phili\\appdata\\roaming\\python\\python311\\site-packages (from huggingface-hub>=0.4.0->sentence-transformers) (4.5.0)\n",
      "Requirement already satisfied: packaging>=20.9 in c:\\users\\phili\\appdata\\roaming\\python\\python311\\site-packages (from huggingface-hub>=0.4.0->sentence-transformers) (23.1)\n",
      "Requirement already satisfied: sympy in c:\\users\\phili\\appdata\\roaming\\python\\python311\\site-packages (from torch>=1.6.0->sentence-transformers) (1.12)\n",
      "Requirement already satisfied: networkx in c:\\users\\phili\\appdata\\roaming\\python\\python311\\site-packages (from torch>=1.6.0->sentence-transformers) (3.1)\n",
      "Requirement already satisfied: jinja2 in c:\\users\\phili\\appdata\\roaming\\python\\python311\\site-packages (from torch>=1.6.0->sentence-transformers) (3.1.2)\n",
      "Requirement already satisfied: colorama in c:\\users\\phili\\appdata\\roaming\\python\\python311\\site-packages (from tqdm->sentence-transformers) (0.4.6)\n",
      "Requirement already satisfied: regex!=2019.12.17 in c:\\users\\phili\\appdata\\roaming\\python\\python311\\site-packages (from transformers<5.0.0,>=4.6.0->sentence-transformers) (2023.5.5)\n",
      "Requirement already satisfied: tokenizers!=0.11.3,<0.14,>=0.11.1 in c:\\users\\phili\\appdata\\roaming\\python\\python311\\site-packages (from transformers<5.0.0,>=4.6.0->sentence-transformers) (0.13.3)\n",
      "Collecting click (from nltk->sentence-transformers)\n",
      "  Downloading click-8.1.3-py3-none-any.whl (96 kB)\n",
      "                                              0.0/96.6 kB ? eta -:--:--\n",
      "     ---------------------------------------- 96.6/96.6 kB 5.8 MB/s eta 0:00:00\n",
      "Collecting joblib (from nltk->sentence-transformers)\n",
      "  Downloading joblib-1.2.0-py3-none-any.whl (297 kB)\n",
      "                                              0.0/298.0 kB ? eta -:--:--\n",
      "     ------------------------------------- 298.0/298.0 kB 19.2 MB/s eta 0:00:00\n",
      "Collecting threadpoolctl>=2.0.0 (from scikit-learn->sentence-transformers)\n",
      "  Downloading threadpoolctl-3.1.0-py3-none-any.whl (14 kB)\n",
      "Collecting pillow!=8.3.*,>=5.3.0 (from torchvision->sentence-transformers)\n",
      "  Downloading Pillow-9.5.0-cp311-cp311-win_amd64.whl (2.5 MB)\n",
      "                                              0.0/2.5 MB ? eta -:--:--\n",
      "     -------------------------------------    2.4/2.5 MB 73.3 MB/s eta 0:00:01\n",
      "     ---------------------------------------- 2.5/2.5 MB 39.7 MB/s eta 0:00:00\n",
      "Requirement already satisfied: MarkupSafe>=2.0 in c:\\users\\phili\\appdata\\roaming\\python\\python311\\site-packages (from jinja2->torch>=1.6.0->sentence-transformers) (2.1.2)\n",
      "Requirement already satisfied: charset-normalizer<4,>=2 in c:\\users\\phili\\appdata\\roaming\\python\\python311\\site-packages (from requests->huggingface-hub>=0.4.0->sentence-transformers) (3.1.0)\n",
      "Requirement already satisfied: idna<4,>=2.5 in c:\\users\\phili\\appdata\\roaming\\python\\python311\\site-packages (from requests->huggingface-hub>=0.4.0->sentence-transformers) (3.4)\n",
      "Requirement already satisfied: urllib3<3,>=1.21.1 in c:\\users\\phili\\appdata\\roaming\\python\\python311\\site-packages (from requests->huggingface-hub>=0.4.0->sentence-transformers) (1.26.15)\n",
      "Requirement already satisfied: certifi>=2017.4.17 in c:\\users\\phili\\appdata\\roaming\\python\\python311\\site-packages (from requests->huggingface-hub>=0.4.0->sentence-transformers) (2023.5.7)\n",
      "Requirement already satisfied: mpmath>=0.19 in c:\\users\\phili\\appdata\\roaming\\python\\python311\\site-packages (from sympy->torch>=1.6.0->sentence-transformers) (1.3.0)\n",
      "Building wheels for collected packages: sentence-transformers\n",
      "  Building wheel for sentence-transformers (setup.py): started\n",
      "  Building wheel for sentence-transformers (setup.py): finished with status 'done'\n",
      "  Created wheel for sentence-transformers: filename=sentence_transformers-2.2.2-py3-none-any.whl size=125961 sha256=e10cad3fe76d0bfe269780126bcfa7463927477c5a4b82d7deb6119c2de520b7\n",
      "  Stored in directory: c:\\users\\phili\\appdata\\local\\pip\\cache\\wheels\\ff\\27\\bf\\ffba8b318b02d7f691a57084ee154e26ed24d012b0c7805881\n",
      "Successfully built sentence-transformers\n",
      "Installing collected packages: sentencepiece, threadpoolctl, pillow, joblib, click, scikit-learn, nltk, torchvision, sentence-transformers\n",
      "Successfully installed click-8.1.3 joblib-1.2.0 nltk-3.8.1 pillow-9.5.0 scikit-learn-1.2.2 sentence-transformers-2.2.2 sentencepiece-0.1.99 threadpoolctl-3.1.0 torchvision-0.15.2\n"
     ]
    },
    {
     "name": "stderr",
     "output_type": "stream",
     "text": [
      "  WARNING: The script nltk.exe is installed in 'C:\\Users\\phili\\AppData\\Roaming\\Python\\Python311\\Scripts' which is not on PATH.\n",
      "  Consider adding this directory to PATH or, if you prefer to suppress this warning, use --no-warn-script-location.\n"
     ]
    }
   ],
   "source": [
    "!pip install sentence-transformers"
   ]
  },
  {
   "cell_type": "code",
   "execution_count": 9,
   "id": "3aa69ef0",
   "metadata": {},
   "outputs": [],
   "source": [
    "from transformers import BartTokenizer, BartForConditionalGeneration"
   ]
  },
  {
   "cell_type": "code",
   "execution_count": 3,
   "id": "e3b898ef",
   "metadata": {},
   "outputs": [],
   "source": [
    "from sentence_transformers import SentenceTransformer, util"
   ]
  },
  {
   "cell_type": "code",
   "execution_count": 10,
   "id": "1ae85a26",
   "metadata": {},
   "outputs": [
    {
     "data": {
      "application/vnd.jupyter.widget-view+json": {
       "model_id": "5d4f7744f7f0443c9033676f1d509159",
       "version_major": 2,
       "version_minor": 0
      },
      "text/plain": [
       "Downloading (…)neration_config.json:   0%|          | 0.00/363 [00:00<?, ?B/s]"
      ]
     },
     "metadata": {},
     "output_type": "display_data"
    }
   ],
   "source": [
    "bart_model = BartForConditionalGeneration.from_pretrained('facebook/bart-large-cnn')\n",
    "bart_tokenizer = BartTokenizer.from_pretrained('facebook/bart-large-cnn')"
   ]
  },
  {
   "cell_type": "code",
   "execution_count": 5,
   "id": "53fa3490",
   "metadata": {},
   "outputs": [
    {
     "data": {
      "application/vnd.jupyter.widget-view+json": {
       "model_id": "f56d938165794a68ac763d1153a5e06a",
       "version_major": 2,
       "version_minor": 0
      },
      "text/plain": [
       "Downloading (…)001fa/.gitattributes:   0%|          | 0.00/690 [00:00<?, ?B/s]"
      ]
     },
     "metadata": {},
     "output_type": "display_data"
    },
    {
     "data": {
      "application/vnd.jupyter.widget-view+json": {
       "model_id": "2219b371f6ec45668df4bfda5019a16e",
       "version_major": 2,
       "version_minor": 0
      },
      "text/plain": [
       "Downloading (…)_Pooling/config.json:   0%|          | 0.00/190 [00:00<?, ?B/s]"
      ]
     },
     "metadata": {},
     "output_type": "display_data"
    },
    {
     "data": {
      "application/vnd.jupyter.widget-view+json": {
       "model_id": "fba67953798a42c1b7fbd7a2455edd4a",
       "version_major": 2,
       "version_minor": 0
      },
      "text/plain": [
       "Downloading (…)3bbb8001fa/README.md:   0%|          | 0.00/3.69k [00:00<?, ?B/s]"
      ]
     },
     "metadata": {},
     "output_type": "display_data"
    },
    {
     "data": {
      "application/vnd.jupyter.widget-view+json": {
       "model_id": "d5e96225f4744bff8f080c9963c232a9",
       "version_major": 2,
       "version_minor": 0
      },
      "text/plain": [
       "Downloading (…)bb8001fa/config.json:   0%|          | 0.00/629 [00:00<?, ?B/s]"
      ]
     },
     "metadata": {},
     "output_type": "display_data"
    },
    {
     "data": {
      "application/vnd.jupyter.widget-view+json": {
       "model_id": "168be7c4f39644229c1b8e6699ac90b0",
       "version_major": 2,
       "version_minor": 0
      },
      "text/plain": [
       "Downloading (…)ce_transformers.json:   0%|          | 0.00/122 [00:00<?, ?B/s]"
      ]
     },
     "metadata": {},
     "output_type": "display_data"
    },
    {
     "data": {
      "application/vnd.jupyter.widget-view+json": {
       "model_id": "075fb028b3a64266923f5b2e96f091d5",
       "version_major": 2,
       "version_minor": 0
      },
      "text/plain": [
       "Downloading pytorch_model.bin:   0%|          | 0.00/90.9M [00:00<?, ?B/s]"
      ]
     },
     "metadata": {},
     "output_type": "display_data"
    },
    {
     "data": {
      "application/vnd.jupyter.widget-view+json": {
       "model_id": "c18dfa089aa24145a60e991d81a4858f",
       "version_major": 2,
       "version_minor": 0
      },
      "text/plain": [
       "Downloading (…)nce_bert_config.json:   0%|          | 0.00/53.0 [00:00<?, ?B/s]"
      ]
     },
     "metadata": {},
     "output_type": "display_data"
    },
    {
     "data": {
      "application/vnd.jupyter.widget-view+json": {
       "model_id": "2976a64b33eb401882cdf87e123aeabc",
       "version_major": 2,
       "version_minor": 0
      },
      "text/plain": [
       "Downloading (…)cial_tokens_map.json:   0%|          | 0.00/112 [00:00<?, ?B/s]"
      ]
     },
     "metadata": {},
     "output_type": "display_data"
    },
    {
     "data": {
      "application/vnd.jupyter.widget-view+json": {
       "model_id": "999fdb298f2548c7920066f7d19d9602",
       "version_major": 2,
       "version_minor": 0
      },
      "text/plain": [
       "Downloading (…)001fa/tokenizer.json:   0%|          | 0.00/466k [00:00<?, ?B/s]"
      ]
     },
     "metadata": {},
     "output_type": "display_data"
    },
    {
     "data": {
      "application/vnd.jupyter.widget-view+json": {
       "model_id": "a10f23784665485a93a106c5a6ee6061",
       "version_major": 2,
       "version_minor": 0
      },
      "text/plain": [
       "Downloading (…)okenizer_config.json:   0%|          | 0.00/314 [00:00<?, ?B/s]"
      ]
     },
     "metadata": {},
     "output_type": "display_data"
    },
    {
     "data": {
      "application/vnd.jupyter.widget-view+json": {
       "model_id": "cc32d6eda0d742ae9da6d4b7cc1b4ec0",
       "version_major": 2,
       "version_minor": 0
      },
      "text/plain": [
       "Downloading (…)3bbb8001fa/vocab.txt:   0%|          | 0.00/232k [00:00<?, ?B/s]"
      ]
     },
     "metadata": {},
     "output_type": "display_data"
    },
    {
     "data": {
      "application/vnd.jupyter.widget-view+json": {
       "model_id": "bf1b5d2539fc469a82b03ca173d7c0a1",
       "version_major": 2,
       "version_minor": 0
      },
      "text/plain": [
       "Downloading (…)b8001fa/modules.json:   0%|          | 0.00/229 [00:00<?, ?B/s]"
      ]
     },
     "metadata": {},
     "output_type": "display_data"
    }
   ],
   "source": [
    "sentence_transformer_model = SentenceTransformer('paraphrase-MiniLM-L6-v2')"
   ]
  },
  {
   "cell_type": "code",
   "execution_count": 6,
   "id": "e836e324",
   "metadata": {},
   "outputs": [],
   "source": [
    "applicant_profile_text = \"\"\"\n",
    "Name: John Smith\n",
    "Title: Software Engineer\n",
    "Contact Information:\n",
    "- Email: johnsmith@email.com\n",
    "- Phone: (123) 456-7890\n",
    "\n",
    "Summary:\n",
    "A highly skilled software engineer with 5+ years of experience in full-stack web development. Proficient in multiple programming languages and frameworks. Strong problem-solving and communication skills. Passionate about creating robust and scalable software solutions.\n",
    "\n",
    "Skills:\n",
    "- Programming Languages: Python, Java, C++\n",
    "- Web Technologies: HTML, CSS, JavaScript, React, Node.js\n",
    "- Databases: MySQL, MongoDB\n",
    "- Version Control: Git\n",
    "- Agile Development\n",
    "- Test-Driven Development (TDD)\n",
    "- Problem Solving\n",
    "- Communication Skills\n",
    "\n",
    "Experience:\n",
    "Company: XYZ Tech\n",
    "Position: Software Engineer\n",
    "Duration: 2018 - Present\n",
    "Responsibilities:\n",
    "- Developed and maintained web applications using Python, Django, HTML, CSS, and JavaScript.\n",
    "- Collaborated with cross-functional teams to design and implement new features.\n",
    "- Implemented test-driven development practices, resulting in a 30% decrease in software bugs.\n",
    "- Optimized application performance and scalability through code refactoring and database tuning.\n",
    "- Conducted code reviews to ensure adherence to coding standards and best practices.\n",
    "\n",
    "Company: ABC Solutions\n",
    "Position: Junior Software Engineer\n",
    "Duration: 2016 - 2018\n",
    "Responsibilities:\n",
    "- Assisted senior engineers in developing and maintaining enterprise-level software solutions.\n",
    "- Participated in requirement analysis and system design discussions.\n",
    "- Contributed to the development of front-end interfaces using React and backend services using Node.js.\n",
    "- Collaborated with QA team to conduct thorough testing and bug fixing.\n",
    "\n",
    "Education:\n",
    "Bachelor of Science in Computer Science\n",
    "University of XYZ, Year of Graduation: 2016\n",
    "\n",
    "Certifications:\n",
    "- Certified Scrum Master (CSM)\n",
    "- Oracle Certified Java Programmer (OCJP)\n",
    "\n",
    "Projects:\n",
    "1. E-commerce Website:\n",
    "- Developed a fully functional e-commerce website using Django, HTML, CSS, and JavaScript.\n",
    "- Implemented secure payment gateway integration and order management system.\n",
    "- Optimized website performance and improved user experience through front-end optimization techniques.\n",
    "\n",
    "2. Task Management Application:\n",
    "- Led a team of 4 developers in building a task management application using React and Node.js.\n",
    "- Implemented real-time updates and collaboration features using web sockets.\n",
    "- Integrated with external APIs for task tracking and reporting.\n",
    "\n",
    "References:\n",
    "Available upon request\n",
    "\"\"\""
   ]
  },
  {
   "cell_type": "code",
   "execution_count": 7,
   "id": "3a884f3c",
   "metadata": {},
   "outputs": [],
   "source": [
    "job_description_text = \"\"\"\n",
    "Job Title: Software Engineer\n",
    "\n",
    "Company: ABC Tech Solutions\n",
    "\n",
    "Location: San Francisco, CA\n",
    "\n",
    "Job Description:\n",
    "ABC Tech Solutions is seeking a talented software engineer to join our development team. As a software engineer, you will be responsible for designing, developing, and maintaining high-quality software solutions for our clients. You will work closely with cross-functional teams to understand requirements, architect solutions, and deliver robust and scalable applications.\n",
    "\n",
    "Responsibilities:\n",
    "- Design, develop, and test software applications using a variety of programming languages and frameworks.\n",
    "- Collaborate with product managers, designers, and other stakeholders to gather requirements and translate them into technical specifications.\n",
    "- Write clean, efficient, and maintainable code following best practices and coding standards.\n",
    "- Conduct code reviews to ensure code quality, readability, and adherence to software development guidelines.\n",
    "- Troubleshoot and debug software issues, identify root causes, and implement effective solutions.\n",
    "- Participate in agile development methodologies, including sprint planning, stand-up meetings, and retrospectives.\n",
    "- Stay up-to-date with industry trends, technologies, and best practices to continuously improve software development processes.\n",
    "\n",
    "Requirements:\n",
    "- Bachelor's degree in Computer Science, Software Engineering, or related field (or equivalent work experience).\n",
    "- 3+ years of professional experience in software development.\n",
    "- Strong proficiency in one or more programming languages such as Java, Python, C++, or JavaScript.\n",
    "- Experience with web development technologies including HTML, CSS, and JavaScript frameworks (e.g., React, Angular).\n",
    "- Familiarity with relational databases and SQL queries.\n",
    "- Knowledge of software development methodologies, version control systems (e.g., Git), and issue tracking tools (e.g., JIRA).\n",
    "- Excellent problem-solving skills and ability to work independently as well as in a team environment.\n",
    "- Strong communication skills and ability to effectively collaborate with cross-functional teams.\n",
    "\n",
    "Preferred Qualifications:\n",
    "- Master's degree in Computer Science, Software Engineering, or related field.\n",
    "- Experience with cloud platforms such as AWS, Azure, or GCP.\n",
    "- Knowledge of mobile app development (iOS or Android).\n",
    "- Familiarity with agile development practices, continuous integration, and deployment pipelines.\n",
    "- Contributions to open-source projects or personal programming projects.\n",
    "\n",
    "To apply, please submit your resume, cover letter, and portfolio showcasing your previous projects to careers@abctechsolutions.com. Only shortlisted candidates will be contacted for interviews.\n",
    "\n",
    "About ABC Tech Solutions:\n",
    "ABC Tech Solutions is a leading technology company specializing in software development and IT solutions. We provide cutting-edge software solutions to a wide range of clients in various industries. Join our dynamic team and work on exciting projects that push the boundaries of technology innovation.\n",
    "\"\"\""
   ]
  },
  {
   "cell_type": "code",
   "execution_count": 29,
   "id": "78c7518f",
   "metadata": {},
   "outputs": [],
   "source": [
    "# Generate applicant profile summary using the BART model:\n",
    "encoded_profile_input = bart_tokenizer.encode(applicant_profile_text, return_tensors='pt')\n",
    "profile_summary_ids = bart_model.generate(encoded_profile_input, num_beams=4, max_length=100, early_stopping=True)\n",
    "applicant_summary = bart_tokenizer.decode(profile_summary_ids[0], skip_special_tokens=True)"
   ]
  },
  {
   "cell_type": "code",
   "execution_count": 20,
   "id": "3d5dfbf0",
   "metadata": {},
   "outputs": [
    {
     "name": "stdout",
     "output_type": "stream",
     "text": [
      "Applicant Profile Text: \n",
      "Name: John Smith\n",
      "Title: Software Engineer\n",
      "Contact Information:\n",
      "- Email: johnsmith@email.com\n",
      "- Phone: (123) 456-7890\n",
      "\n",
      "Summary:\n",
      "A highly skilled software engineer with 5+ years of experience in full-stack web development. Proficient in multiple programming languages and frameworks. Strong problem-solving and communication skills. Passionate about creating robust and scalable software solutions.\n",
      "\n",
      "Skills:\n",
      "- Programming Languages: Python, Java, C++\n",
      "- Web Technologies: HTML, CSS, JavaScript, React, Node.js\n",
      "- Databases: MySQL, MongoDB\n",
      "- Version Control: Git\n",
      "- Agile Development\n",
      "- Test-Driven Development (TDD)\n",
      "- Problem Solving\n",
      "- Communication Skills\n",
      "\n",
      "Experience:\n",
      "Company: XYZ Tech\n",
      "Position: Software Engineer\n",
      "Duration: 2018 - Present\n",
      "Responsibilities:\n",
      "- Developed and maintained web applications using Python, Django, HTML, CSS, and JavaScript.\n",
      "- Collaborated with cross-functional teams to design and implement new features.\n",
      "- Implemented test-driven development practices, resulting in a 30% decrease in software bugs.\n",
      "- Optimized application performance and scalability through code refactoring and database tuning.\n",
      "- Conducted code reviews to ensure adherence to coding standards and best practices.\n",
      "\n",
      "Company: ABC Solutions\n",
      "Position: Junior Software Engineer\n",
      "Duration: 2016 - 2018\n",
      "Responsibilities:\n",
      "- Assisted senior engineers in developing and maintaining enterprise-level software solutions.\n",
      "- Participated in requirement analysis and system design discussions.\n",
      "- Contributed to the development of front-end interfaces using React and backend services using Node.js.\n",
      "- Collaborated with QA team to conduct thorough testing and bug fixing.\n",
      "\n",
      "Education:\n",
      "Bachelor of Science in Computer Science\n",
      "University of XYZ, Year of Graduation: 2016\n",
      "\n",
      "Certifications:\n",
      "- Certified Scrum Master (CSM)\n",
      "- Oracle Certified Java Programmer (OCJP)\n",
      "\n",
      "Projects:\n",
      "1. E-commerce Website:\n",
      "- Developed a fully functional e-commerce website using Django, HTML, CSS, and JavaScript.\n",
      "- Implemented secure payment gateway integration and order management system.\n",
      "- Optimized website performance and improved user experience through front-end optimization techniques.\n",
      "\n",
      "2. Task Management Application:\n",
      "- Led a team of 4 developers in building a task management application using React and Node.js.\n",
      "- Implemented real-time updates and collaboration features using web sockets.\n",
      "- Integrated with external APIs for task tracking and reporting.\n",
      "\n",
      "References:\n",
      "Available upon request\n",
      "\n"
     ]
    }
   ],
   "source": [
    "print(\"Applicant Profile Text:\", applicant_profile_text)"
   ]
  },
  {
   "cell_type": "code",
   "execution_count": 30,
   "id": "3248e940",
   "metadata": {},
   "outputs": [
    {
     "name": "stdout",
     "output_type": "stream",
     "text": [
      "Summary: A highly skilled software engineer with 5+ years of experience in full-stack web development. Proficient in multiple programming languages and frameworks. Strong problem-solving and communication skills. Passionate about creating robust and scalable software solutions. John Smith is a Software Engineer at XYZ Tech.\n"
     ]
    }
   ],
   "source": [
    "print(\"Summary:\", applicant_summary)"
   ]
  },
  {
   "cell_type": "code",
   "execution_count": 31,
   "id": "8d66e997",
   "metadata": {},
   "outputs": [],
   "source": [
    "# Generate a summary for the job description using the BART model\n",
    "encoded_job_input = bart_tokenizer.encode(job_description_text, return_tensors='pt')\n",
    "job_summary_ids = bart_model.generate(encoded_job_input, num_beams=4, max_length=100, early_stopping=True)\n",
    "job_summary = bart_tokenizer.decode(job_summary_ids[0], skip_special_tokens=True)"
   ]
  },
  {
   "cell_type": "code",
   "execution_count": 27,
   "id": "3909e7ea",
   "metadata": {},
   "outputs": [
    {
     "name": "stdout",
     "output_type": "stream",
     "text": [
      "Job Description Text: \n",
      "Job Title: Software Engineer\n",
      "\n",
      "Company: ABC Tech Solutions\n",
      "\n",
      "Location: San Francisco, CA\n",
      "\n",
      "Job Description:\n",
      "ABC Tech Solutions is seeking a talented software engineer to join our development team. As a software engineer, you will be responsible for designing, developing, and maintaining high-quality software solutions for our clients. You will work closely with cross-functional teams to understand requirements, architect solutions, and deliver robust and scalable applications.\n",
      "\n",
      "Responsibilities:\n",
      "- Design, develop, and test software applications using a variety of programming languages and frameworks.\n",
      "- Collaborate with product managers, designers, and other stakeholders to gather requirements and translate them into technical specifications.\n",
      "- Write clean, efficient, and maintainable code following best practices and coding standards.\n",
      "- Conduct code reviews to ensure code quality, readability, and adherence to software development guidelines.\n",
      "- Troubleshoot and debug software issues, identify root causes, and implement effective solutions.\n",
      "- Participate in agile development methodologies, including sprint planning, stand-up meetings, and retrospectives.\n",
      "- Stay up-to-date with industry trends, technologies, and best practices to continuously improve software development processes.\n",
      "\n",
      "Requirements:\n",
      "- Bachelor's degree in Computer Science, Software Engineering, or related field (or equivalent work experience).\n",
      "- 3+ years of professional experience in software development.\n",
      "- Strong proficiency in one or more programming languages such as Java, Python, C++, or JavaScript.\n",
      "- Experience with web development technologies including HTML, CSS, and JavaScript frameworks (e.g., React, Angular).\n",
      "- Familiarity with relational databases and SQL queries.\n",
      "- Knowledge of software development methodologies, version control systems (e.g., Git), and issue tracking tools (e.g., JIRA).\n",
      "- Excellent problem-solving skills and ability to work independently as well as in a team environment.\n",
      "- Strong communication skills and ability to effectively collaborate with cross-functional teams.\n",
      "\n",
      "Preferred Qualifications:\n",
      "- Master's degree in Computer Science, Software Engineering, or related field.\n",
      "- Experience with cloud platforms such as AWS, Azure, or GCP.\n",
      "- Knowledge of mobile app development (iOS or Android).\n",
      "- Familiarity with agile development practices, continuous integration, and deployment pipelines.\n",
      "- Contributions to open-source projects or personal programming projects.\n",
      "\n",
      "To apply, please submit your resume, cover letter, and portfolio showcasing your previous projects to careers@abctechsolutions.com. Only shortlisted candidates will be contacted for interviews.\n",
      "\n",
      "About ABC Tech Solutions:\n",
      "ABC Tech Solutions is a leading technology company specializing in software development and IT solutions. We provide cutting-edge software solutions to a wide range of clients in various industries. Join our dynamic team and work on exciting projects that push the boundaries of technology innovation.\n",
      "\n"
     ]
    }
   ],
   "source": [
    "print(\"Job Description Text:\", job_description_text)"
   ]
  },
  {
   "cell_type": "code",
   "execution_count": 33,
   "id": "e6f5b62c",
   "metadata": {},
   "outputs": [
    {
     "name": "stdout",
     "output_type": "stream",
     "text": [
      "Job Description Summary: ABC Tech Solutions is seeking a talented software engineer to join our development team. As a software engineer, you will be responsible for designing, developing, and maintaining high-quality software solutions. You will work closely with cross-functional teams to understand requirements, architect solutions, and deliver robust and scalable applications.\n"
     ]
    }
   ],
   "source": [
    "print(\"Job Description Summary:\", job_summary)"
   ]
  },
  {
   "cell_type": "code",
   "execution_count": 34,
   "id": "ef6615a3",
   "metadata": {},
   "outputs": [],
   "source": [
    "# Load the sentence-transformers model\n",
    "sentence_model = SentenceTransformer('sentence-transformers/all-MiniLM-L6-v2')\n",
    "\n",
    "# Compute similarity between the applicant summary and the job summary\n",
    "embeddings = sentence_model.encode([applicant_summary, job_summary], convert_to_tensor=True)\n",
    "cosine_scores = util.pytorch_cos_sim(embeddings[0], embeddings[1])\n",
    "similarity_score = cosine_scores.item()"
   ]
  },
  {
   "cell_type": "code",
   "execution_count": 35,
   "id": "f1e4c1cc",
   "metadata": {},
   "outputs": [
    {
     "name": "stdout",
     "output_type": "stream",
     "text": [
      "Similarity Scores: [0.07281482964754105]\n"
     ]
    }
   ],
   "source": [
    "print(\"Similarity Scores:\", scores)"
   ]
  },
  {
   "cell_type": "code",
   "execution_count": null,
   "id": "692f1da4",
   "metadata": {},
   "outputs": [],
   "source": []
  }
 ],
 "metadata": {
  "kernelspec": {
   "display_name": "Python 3 (ipykernel)",
   "language": "python",
   "name": "python3"
  },
  "language_info": {
   "codemirror_mode": {
    "name": "ipython",
    "version": 3
   },
   "file_extension": ".py",
   "mimetype": "text/x-python",
   "name": "python",
   "nbconvert_exporter": "python",
   "pygments_lexer": "ipython3",
   "version": "3.11.3"
  }
 },
 "nbformat": 4,
 "nbformat_minor": 5
}
